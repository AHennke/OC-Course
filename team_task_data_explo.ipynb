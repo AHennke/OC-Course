{
 "cells": [
  {
   "cell_type": "code",
   "execution_count": null,
   "metadata": {},
   "outputs": [],
   "source": [
    "import pandas as pd\n",
    "import numpy as np\n",
    "import matplotlib.pyplot as plt"
   ]
  },
  {
   "cell_type": "code",
   "execution_count": null,
   "metadata": {},
   "outputs": [],
   "source": [
    "csv_umsatz = \"https://raw.githubusercontent.com/AHennke/OC-Course/main/umsatzdaten_gekuerzt.csv\"\n",
    "csv_wetter = \"https://raw.githubusercontent.com/AHennke/OC-Course/main/wetter.csv\"\n",
    "csv_kiwo = \"https://raw.githubusercontent.com/AHennke/OC-Course/main/kiwo.csv\""
   ]
  },
  {
   "cell_type": "code",
   "execution_count": null,
   "metadata": {},
   "outputs": [],
   "source": [
    "df_umsatz = pd.read_csv(csv_umsatz)\n",
    "df_wetter = pd.read_csv(csv_wetter)\n",
    "df_kiwo = pd.read_csv(csv_kiwo)"
   ]
  },
  {
   "cell_type": "code",
   "execution_count": null,
   "metadata": {},
   "outputs": [
    {
     "data": {
      "text/html": [
       "<div>\n",
       "<style scoped>\n",
       "    .dataframe tbody tr th:only-of-type {\n",
       "        vertical-align: middle;\n",
       "    }\n",
       "\n",
       "    .dataframe tbody tr th {\n",
       "        vertical-align: top;\n",
       "    }\n",
       "\n",
       "    .dataframe thead th {\n",
       "        text-align: right;\n",
       "    }\n",
       "</style>\n",
       "<table border=\"1\" class=\"dataframe\">\n",
       "  <thead>\n",
       "    <tr style=\"text-align: right;\">\n",
       "      <th></th>\n",
       "      <th>Datum</th>\n",
       "      <th>Warengruppe</th>\n",
       "      <th>Umsatz</th>\n",
       "    </tr>\n",
       "  </thead>\n",
       "  <tbody>\n",
       "    <tr>\n",
       "      <th>0</th>\n",
       "      <td>2013-07-01</td>\n",
       "      <td>1</td>\n",
       "      <td>148.828353</td>\n",
       "    </tr>\n",
       "    <tr>\n",
       "      <th>1</th>\n",
       "      <td>2013-07-02</td>\n",
       "      <td>1</td>\n",
       "      <td>159.793757</td>\n",
       "    </tr>\n",
       "    <tr>\n",
       "      <th>2</th>\n",
       "      <td>2013-07-03</td>\n",
       "      <td>1</td>\n",
       "      <td>111.885594</td>\n",
       "    </tr>\n",
       "    <tr>\n",
       "      <th>3</th>\n",
       "      <td>2013-07-04</td>\n",
       "      <td>1</td>\n",
       "      <td>168.864941</td>\n",
       "    </tr>\n",
       "    <tr>\n",
       "      <th>4</th>\n",
       "      <td>2013-07-05</td>\n",
       "      <td>1</td>\n",
       "      <td>171.280754</td>\n",
       "    </tr>\n",
       "  </tbody>\n",
       "</table>\n",
       "</div>"
      ],
      "text/plain": [
       "        Datum  Warengruppe      Umsatz\n",
       "0  2013-07-01            1  148.828353\n",
       "1  2013-07-02            1  159.793757\n",
       "2  2013-07-03            1  111.885594\n",
       "3  2013-07-04            1  168.864941\n",
       "4  2013-07-05            1  171.280754"
      ]
     },
     "execution_count": 92,
     "metadata": {},
     "output_type": "execute_result"
    }
   ],
   "source": [
    "df_umsatz.head()"
   ]
  },
  {
   "cell_type": "code",
   "execution_count": null,
   "metadata": {},
   "outputs": [
    {
     "data": {
      "text/html": [
       "<div>\n",
       "<style scoped>\n",
       "    .dataframe tbody tr th:only-of-type {\n",
       "        vertical-align: middle;\n",
       "    }\n",
       "\n",
       "    .dataframe tbody tr th {\n",
       "        vertical-align: top;\n",
       "    }\n",
       "\n",
       "    .dataframe thead th {\n",
       "        text-align: right;\n",
       "    }\n",
       "</style>\n",
       "<table border=\"1\" class=\"dataframe\">\n",
       "  <thead>\n",
       "    <tr style=\"text-align: right;\">\n",
       "      <th></th>\n",
       "      <th>Datum</th>\n",
       "      <th>Bewoelkung</th>\n",
       "      <th>Temperatur</th>\n",
       "      <th>Windgeschwindigkeit</th>\n",
       "      <th>Wettercode</th>\n",
       "    </tr>\n",
       "  </thead>\n",
       "  <tbody>\n",
       "    <tr>\n",
       "      <th>0</th>\n",
       "      <td>2012-01-01</td>\n",
       "      <td>8.0</td>\n",
       "      <td>9.8250</td>\n",
       "      <td>14</td>\n",
       "      <td>58.0</td>\n",
       "    </tr>\n",
       "    <tr>\n",
       "      <th>1</th>\n",
       "      <td>2012-01-02</td>\n",
       "      <td>7.0</td>\n",
       "      <td>7.4375</td>\n",
       "      <td>12</td>\n",
       "      <td>NaN</td>\n",
       "    </tr>\n",
       "    <tr>\n",
       "      <th>2</th>\n",
       "      <td>2012-01-03</td>\n",
       "      <td>8.0</td>\n",
       "      <td>5.5375</td>\n",
       "      <td>18</td>\n",
       "      <td>63.0</td>\n",
       "    </tr>\n",
       "    <tr>\n",
       "      <th>3</th>\n",
       "      <td>2012-01-04</td>\n",
       "      <td>4.0</td>\n",
       "      <td>5.6875</td>\n",
       "      <td>19</td>\n",
       "      <td>80.0</td>\n",
       "    </tr>\n",
       "    <tr>\n",
       "      <th>4</th>\n",
       "      <td>2012-01-05</td>\n",
       "      <td>6.0</td>\n",
       "      <td>5.3000</td>\n",
       "      <td>23</td>\n",
       "      <td>80.0</td>\n",
       "    </tr>\n",
       "  </tbody>\n",
       "</table>\n",
       "</div>"
      ],
      "text/plain": [
       "        Datum  Bewoelkung  Temperatur  Windgeschwindigkeit  Wettercode\n",
       "0  2012-01-01         8.0      9.8250                   14        58.0\n",
       "1  2012-01-02         7.0      7.4375                   12         NaN\n",
       "2  2012-01-03         8.0      5.5375                   18        63.0\n",
       "3  2012-01-04         4.0      5.6875                   19        80.0\n",
       "4  2012-01-05         6.0      5.3000                   23        80.0"
      ]
     },
     "execution_count": 93,
     "metadata": {},
     "output_type": "execute_result"
    }
   ],
   "source": [
    "df_wetter.head()"
   ]
  },
  {
   "cell_type": "code",
   "execution_count": null,
   "metadata": {},
   "outputs": [
    {
     "data": {
      "text/html": [
       "<div>\n",
       "<style scoped>\n",
       "    .dataframe tbody tr th:only-of-type {\n",
       "        vertical-align: middle;\n",
       "    }\n",
       "\n",
       "    .dataframe tbody tr th {\n",
       "        vertical-align: top;\n",
       "    }\n",
       "\n",
       "    .dataframe thead th {\n",
       "        text-align: right;\n",
       "    }\n",
       "</style>\n",
       "<table border=\"1\" class=\"dataframe\">\n",
       "  <thead>\n",
       "    <tr style=\"text-align: right;\">\n",
       "      <th></th>\n",
       "      <th>Datum</th>\n",
       "      <th>KielerWoche</th>\n",
       "    </tr>\n",
       "  </thead>\n",
       "  <tbody>\n",
       "    <tr>\n",
       "      <th>0</th>\n",
       "      <td>2012-06-16</td>\n",
       "      <td>1</td>\n",
       "    </tr>\n",
       "    <tr>\n",
       "      <th>1</th>\n",
       "      <td>2012-06-17</td>\n",
       "      <td>1</td>\n",
       "    </tr>\n",
       "    <tr>\n",
       "      <th>2</th>\n",
       "      <td>2012-06-18</td>\n",
       "      <td>1</td>\n",
       "    </tr>\n",
       "    <tr>\n",
       "      <th>3</th>\n",
       "      <td>2012-06-19</td>\n",
       "      <td>1</td>\n",
       "    </tr>\n",
       "    <tr>\n",
       "      <th>4</th>\n",
       "      <td>2012-06-20</td>\n",
       "      <td>1</td>\n",
       "    </tr>\n",
       "  </tbody>\n",
       "</table>\n",
       "</div>"
      ],
      "text/plain": [
       "        Datum  KielerWoche\n",
       "0  2012-06-16            1\n",
       "1  2012-06-17            1\n",
       "2  2012-06-18            1\n",
       "3  2012-06-19            1\n",
       "4  2012-06-20            1"
      ]
     },
     "execution_count": 94,
     "metadata": {},
     "output_type": "execute_result"
    }
   ],
   "source": [
    "df_kiwo.head()"
   ]
  },
  {
   "cell_type": "markdown",
   "metadata": {},
   "source": [
    "#### identify the different values within one column"
   ]
  },
  {
   "cell_type": "code",
   "execution_count": null,
   "metadata": {},
   "outputs": [
    {
     "name": "stdout",
     "output_type": "stream",
     "text": [
      "[1 2 3 4 5 6]\n"
     ]
    }
   ],
   "source": [
    "unique_values = df_umsatz['Warengruppe'].unique()\n",
    "print(unique_values)"
   ]
  },
  {
   "cell_type": "code",
   "execution_count": null,
   "metadata": {},
   "outputs": [
    {
     "name": "stdout",
     "output_type": "stream",
     "text": [
      "9334\n"
     ]
    }
   ],
   "source": [
    "total_rows = df_umsatz.shape[0]\n",
    "print(total_rows)"
   ]
  },
  {
   "cell_type": "markdown",
   "metadata": {},
   "source": [
    "##### merge Umsatz and Wetter Data frame via left join (left is Umsatz)"
   ]
  },
  {
   "cell_type": "code",
   "execution_count": null,
   "metadata": {},
   "outputs": [],
   "source": [
    "merged_df = pd.merge(df_umsatz, df_wetter, on='Datum', how='left')"
   ]
  },
  {
   "cell_type": "code",
   "execution_count": 98,
   "metadata": {},
   "outputs": [
    {
     "data": {
      "text/html": [
       "<div>\n",
       "<style scoped>\n",
       "    .dataframe tbody tr th:only-of-type {\n",
       "        vertical-align: middle;\n",
       "    }\n",
       "\n",
       "    .dataframe tbody tr th {\n",
       "        vertical-align: top;\n",
       "    }\n",
       "\n",
       "    .dataframe thead th {\n",
       "        text-align: right;\n",
       "    }\n",
       "</style>\n",
       "<table border=\"1\" class=\"dataframe\">\n",
       "  <thead>\n",
       "    <tr style=\"text-align: right;\">\n",
       "      <th></th>\n",
       "      <th>Datum</th>\n",
       "      <th>Warengruppe</th>\n",
       "      <th>Umsatz</th>\n",
       "      <th>Bewoelkung</th>\n",
       "      <th>Temperatur</th>\n",
       "      <th>Windgeschwindigkeit</th>\n",
       "      <th>Wettercode</th>\n",
       "    </tr>\n",
       "  </thead>\n",
       "  <tbody>\n",
       "    <tr>\n",
       "      <th>0</th>\n",
       "      <td>2013-07-01</td>\n",
       "      <td>1</td>\n",
       "      <td>148.828353</td>\n",
       "      <td>6.0</td>\n",
       "      <td>17.8375</td>\n",
       "      <td>15.0</td>\n",
       "      <td>20.0</td>\n",
       "    </tr>\n",
       "    <tr>\n",
       "      <th>1</th>\n",
       "      <td>2013-07-02</td>\n",
       "      <td>1</td>\n",
       "      <td>159.793757</td>\n",
       "      <td>3.0</td>\n",
       "      <td>17.3125</td>\n",
       "      <td>10.0</td>\n",
       "      <td>NaN</td>\n",
       "    </tr>\n",
       "    <tr>\n",
       "      <th>2</th>\n",
       "      <td>2013-07-03</td>\n",
       "      <td>1</td>\n",
       "      <td>111.885594</td>\n",
       "      <td>7.0</td>\n",
       "      <td>21.0750</td>\n",
       "      <td>6.0</td>\n",
       "      <td>61.0</td>\n",
       "    </tr>\n",
       "    <tr>\n",
       "      <th>3</th>\n",
       "      <td>2013-07-04</td>\n",
       "      <td>1</td>\n",
       "      <td>168.864941</td>\n",
       "      <td>7.0</td>\n",
       "      <td>18.8500</td>\n",
       "      <td>7.0</td>\n",
       "      <td>20.0</td>\n",
       "    </tr>\n",
       "    <tr>\n",
       "      <th>4</th>\n",
       "      <td>2013-07-05</td>\n",
       "      <td>1</td>\n",
       "      <td>171.280754</td>\n",
       "      <td>5.0</td>\n",
       "      <td>19.9750</td>\n",
       "      <td>12.0</td>\n",
       "      <td>NaN</td>\n",
       "    </tr>\n",
       "  </tbody>\n",
       "</table>\n",
       "</div>"
      ],
      "text/plain": [
       "        Datum  Warengruppe      Umsatz  Bewoelkung  Temperatur  \\\n",
       "0  2013-07-01            1  148.828353         6.0     17.8375   \n",
       "1  2013-07-02            1  159.793757         3.0     17.3125   \n",
       "2  2013-07-03            1  111.885594         7.0     21.0750   \n",
       "3  2013-07-04            1  168.864941         7.0     18.8500   \n",
       "4  2013-07-05            1  171.280754         5.0     19.9750   \n",
       "\n",
       "   Windgeschwindigkeit  Wettercode  \n",
       "0                 15.0        20.0  \n",
       "1                 10.0         NaN  \n",
       "2                  6.0        61.0  \n",
       "3                  7.0        20.0  \n",
       "4                 12.0         NaN  "
      ]
     },
     "execution_count": 98,
     "metadata": {},
     "output_type": "execute_result"
    }
   ],
   "source": [
    "merged_df.head()"
   ]
  },
  {
   "cell_type": "markdown",
   "metadata": {},
   "source": [
    "##### merge the kiwo data via left join as well"
   ]
  },
  {
   "cell_type": "code",
   "execution_count": 99,
   "metadata": {},
   "outputs": [],
   "source": [
    "merged_df = pd.merge(merged_df, df_kiwo, on='Datum', how='left')"
   ]
  },
  {
   "cell_type": "code",
   "execution_count": 100,
   "metadata": {},
   "outputs": [
    {
     "data": {
      "text/html": [
       "<div>\n",
       "<style scoped>\n",
       "    .dataframe tbody tr th:only-of-type {\n",
       "        vertical-align: middle;\n",
       "    }\n",
       "\n",
       "    .dataframe tbody tr th {\n",
       "        vertical-align: top;\n",
       "    }\n",
       "\n",
       "    .dataframe thead th {\n",
       "        text-align: right;\n",
       "    }\n",
       "</style>\n",
       "<table border=\"1\" class=\"dataframe\">\n",
       "  <thead>\n",
       "    <tr style=\"text-align: right;\">\n",
       "      <th></th>\n",
       "      <th>Datum</th>\n",
       "      <th>Warengruppe</th>\n",
       "      <th>Umsatz</th>\n",
       "      <th>Bewoelkung</th>\n",
       "      <th>Temperatur</th>\n",
       "      <th>Windgeschwindigkeit</th>\n",
       "      <th>Wettercode</th>\n",
       "      <th>KielerWoche</th>\n",
       "    </tr>\n",
       "  </thead>\n",
       "  <tbody>\n",
       "    <tr>\n",
       "      <th>0</th>\n",
       "      <td>2013-07-01</td>\n",
       "      <td>1</td>\n",
       "      <td>148.828353</td>\n",
       "      <td>6.0</td>\n",
       "      <td>17.8375</td>\n",
       "      <td>15.0</td>\n",
       "      <td>20.0</td>\n",
       "      <td>NaN</td>\n",
       "    </tr>\n",
       "    <tr>\n",
       "      <th>1</th>\n",
       "      <td>2013-07-02</td>\n",
       "      <td>1</td>\n",
       "      <td>159.793757</td>\n",
       "      <td>3.0</td>\n",
       "      <td>17.3125</td>\n",
       "      <td>10.0</td>\n",
       "      <td>NaN</td>\n",
       "      <td>NaN</td>\n",
       "    </tr>\n",
       "    <tr>\n",
       "      <th>2</th>\n",
       "      <td>2013-07-03</td>\n",
       "      <td>1</td>\n",
       "      <td>111.885594</td>\n",
       "      <td>7.0</td>\n",
       "      <td>21.0750</td>\n",
       "      <td>6.0</td>\n",
       "      <td>61.0</td>\n",
       "      <td>NaN</td>\n",
       "    </tr>\n",
       "    <tr>\n",
       "      <th>3</th>\n",
       "      <td>2013-07-04</td>\n",
       "      <td>1</td>\n",
       "      <td>168.864941</td>\n",
       "      <td>7.0</td>\n",
       "      <td>18.8500</td>\n",
       "      <td>7.0</td>\n",
       "      <td>20.0</td>\n",
       "      <td>NaN</td>\n",
       "    </tr>\n",
       "    <tr>\n",
       "      <th>4</th>\n",
       "      <td>2013-07-05</td>\n",
       "      <td>1</td>\n",
       "      <td>171.280754</td>\n",
       "      <td>5.0</td>\n",
       "      <td>19.9750</td>\n",
       "      <td>12.0</td>\n",
       "      <td>NaN</td>\n",
       "      <td>NaN</td>\n",
       "    </tr>\n",
       "  </tbody>\n",
       "</table>\n",
       "</div>"
      ],
      "text/plain": [
       "        Datum  Warengruppe      Umsatz  Bewoelkung  Temperatur  \\\n",
       "0  2013-07-01            1  148.828353         6.0     17.8375   \n",
       "1  2013-07-02            1  159.793757         3.0     17.3125   \n",
       "2  2013-07-03            1  111.885594         7.0     21.0750   \n",
       "3  2013-07-04            1  168.864941         7.0     18.8500   \n",
       "4  2013-07-05            1  171.280754         5.0     19.9750   \n",
       "\n",
       "   Windgeschwindigkeit  Wettercode  KielerWoche  \n",
       "0                 15.0        20.0          NaN  \n",
       "1                 10.0         NaN          NaN  \n",
       "2                  6.0        61.0          NaN  \n",
       "3                  7.0        20.0          NaN  \n",
       "4                 12.0         NaN          NaN  "
      ]
     },
     "execution_count": 100,
     "metadata": {},
     "output_type": "execute_result"
    }
   ],
   "source": [
    "merged_df.head()"
   ]
  },
  {
   "cell_type": "code",
   "execution_count": 101,
   "metadata": {},
   "outputs": [
    {
     "name": "stdout",
     "output_type": "stream",
     "text": [
      "           Datum  Warengruppe      Umsatz  Bewoelkung  Temperatur  \\\n",
      "0     2013-07-01            1  148.828353         6.0     17.8375   \n",
      "1     2013-07-02            1  159.793757         3.0     17.3125   \n",
      "2     2013-07-03            1  111.885594         7.0     21.0750   \n",
      "3     2013-07-04            1  168.864941         7.0     18.8500   \n",
      "4     2013-07-05            1  171.280754         5.0     19.9750   \n",
      "...          ...          ...         ...         ...         ...   \n",
      "9329  2017-12-21            6   87.471228         7.0      6.2375   \n",
      "9330  2017-12-22            6   71.911652         7.0      5.7625   \n",
      "9331  2017-12-23            6   84.062223         7.0      7.8000   \n",
      "9332  2017-12-24            6   60.981969         7.0      8.1125   \n",
      "9333  2017-12-27            6   34.972644         7.0      4.6125   \n",
      "\n",
      "      Windgeschwindigkeit  Wettercode  KielerWoche  \n",
      "0                    15.0        20.0          NaN  \n",
      "1                    10.0         NaN          NaN  \n",
      "2                     6.0        61.0          NaN  \n",
      "3                     7.0        20.0          NaN  \n",
      "4                    12.0         NaN          NaN  \n",
      "...                   ...         ...          ...  \n",
      "9329                 10.0        21.0          NaN  \n",
      "9330                  9.0        10.0          NaN  \n",
      "9331                 19.0        61.0          NaN  \n",
      "9332                 16.0        61.0          NaN  \n",
      "9333                  7.0        21.0          NaN  \n",
      "\n",
      "[9334 rows x 8 columns]\n"
     ]
    }
   ],
   "source": [
    "print(merged_df)"
   ]
  },
  {
   "cell_type": "code",
   "execution_count": 103,
   "metadata": {},
   "outputs": [
    {
     "data": {
      "text/html": [
       "<div>\n",
       "<style scoped>\n",
       "    .dataframe tbody tr th:only-of-type {\n",
       "        vertical-align: middle;\n",
       "    }\n",
       "\n",
       "    .dataframe tbody tr th {\n",
       "        vertical-align: top;\n",
       "    }\n",
       "\n",
       "    .dataframe thead th {\n",
       "        text-align: right;\n",
       "    }\n",
       "</style>\n",
       "<table border=\"1\" class=\"dataframe\">\n",
       "  <thead>\n",
       "    <tr style=\"text-align: right;\">\n",
       "      <th></th>\n",
       "      <th>Datum</th>\n",
       "      <th>Warengruppe</th>\n",
       "      <th>Umsatz</th>\n",
       "      <th>Bewoelkung</th>\n",
       "      <th>Temperatur</th>\n",
       "      <th>Windgeschwindigkeit</th>\n",
       "      <th>Wettercode</th>\n",
       "      <th>KielerWoche</th>\n",
       "    </tr>\n",
       "  </thead>\n",
       "  <tbody>\n",
       "    <tr>\n",
       "      <th>0</th>\n",
       "      <td>2013-07-01</td>\n",
       "      <td>1</td>\n",
       "      <td>148.828353</td>\n",
       "      <td>6.0</td>\n",
       "      <td>17.8375</td>\n",
       "      <td>15.0</td>\n",
       "      <td>20.0</td>\n",
       "      <td>0.0</td>\n",
       "    </tr>\n",
       "    <tr>\n",
       "      <th>1</th>\n",
       "      <td>2013-07-02</td>\n",
       "      <td>1</td>\n",
       "      <td>159.793757</td>\n",
       "      <td>3.0</td>\n",
       "      <td>17.3125</td>\n",
       "      <td>10.0</td>\n",
       "      <td>0.0</td>\n",
       "      <td>0.0</td>\n",
       "    </tr>\n",
       "    <tr>\n",
       "      <th>2</th>\n",
       "      <td>2013-07-03</td>\n",
       "      <td>1</td>\n",
       "      <td>111.885594</td>\n",
       "      <td>7.0</td>\n",
       "      <td>21.0750</td>\n",
       "      <td>6.0</td>\n",
       "      <td>61.0</td>\n",
       "      <td>0.0</td>\n",
       "    </tr>\n",
       "    <tr>\n",
       "      <th>3</th>\n",
       "      <td>2013-07-04</td>\n",
       "      <td>1</td>\n",
       "      <td>168.864941</td>\n",
       "      <td>7.0</td>\n",
       "      <td>18.8500</td>\n",
       "      <td>7.0</td>\n",
       "      <td>20.0</td>\n",
       "      <td>0.0</td>\n",
       "    </tr>\n",
       "    <tr>\n",
       "      <th>4</th>\n",
       "      <td>2013-07-05</td>\n",
       "      <td>1</td>\n",
       "      <td>171.280754</td>\n",
       "      <td>5.0</td>\n",
       "      <td>19.9750</td>\n",
       "      <td>12.0</td>\n",
       "      <td>0.0</td>\n",
       "      <td>0.0</td>\n",
       "    </tr>\n",
       "  </tbody>\n",
       "</table>\n",
       "</div>"
      ],
      "text/plain": [
       "        Datum  Warengruppe      Umsatz  Bewoelkung  Temperatur  \\\n",
       "0  2013-07-01            1  148.828353         6.0     17.8375   \n",
       "1  2013-07-02            1  159.793757         3.0     17.3125   \n",
       "2  2013-07-03            1  111.885594         7.0     21.0750   \n",
       "3  2013-07-04            1  168.864941         7.0     18.8500   \n",
       "4  2013-07-05            1  171.280754         5.0     19.9750   \n",
       "\n",
       "   Windgeschwindigkeit  Wettercode  KielerWoche  \n",
       "0                 15.0        20.0          0.0  \n",
       "1                 10.0         0.0          0.0  \n",
       "2                  6.0        61.0          0.0  \n",
       "3                  7.0        20.0          0.0  \n",
       "4                 12.0         0.0          0.0  "
      ]
     },
     "execution_count": 103,
     "metadata": {},
     "output_type": "execute_result"
    }
   ],
   "source": [
    "# convert NaN values to 0 to proceed with the calculation\n",
    "\n",
    "merged_df.fillna(0, inplace=True)\n",
    "merged_df.head()"
   ]
  },
  {
   "cell_type": "code",
   "execution_count": null,
   "metadata": {},
   "outputs": [],
   "source": [
    "# Convert Date to datetime\n",
    "merged_df['Date'] = pd.to_datetime(merged_df['Datum'])"
   ]
  },
  {
   "cell_type": "code",
   "execution_count": null,
   "metadata": {},
   "outputs": [
    {
     "data": {
      "text/html": [
       "<div>\n",
       "<style scoped>\n",
       "    .dataframe tbody tr th:only-of-type {\n",
       "        vertical-align: middle;\n",
       "    }\n",
       "\n",
       "    .dataframe tbody tr th {\n",
       "        vertical-align: top;\n",
       "    }\n",
       "\n",
       "    .dataframe thead th {\n",
       "        text-align: right;\n",
       "    }\n",
       "</style>\n",
       "<table border=\"1\" class=\"dataframe\">\n",
       "  <thead>\n",
       "    <tr style=\"text-align: right;\">\n",
       "      <th></th>\n",
       "      <th>Datum</th>\n",
       "      <th>Warengruppe</th>\n",
       "      <th>Umsatz</th>\n",
       "      <th>Bewoelkung</th>\n",
       "      <th>Temperatur</th>\n",
       "      <th>Windgeschwindigkeit</th>\n",
       "      <th>Wettercode</th>\n",
       "      <th>KielerWoche</th>\n",
       "      <th>Date</th>\n",
       "    </tr>\n",
       "  </thead>\n",
       "  <tbody>\n",
       "    <tr>\n",
       "      <th>0</th>\n",
       "      <td>2013-07-01</td>\n",
       "      <td>1</td>\n",
       "      <td>148.828353</td>\n",
       "      <td>6.0</td>\n",
       "      <td>17.8375</td>\n",
       "      <td>15.0</td>\n",
       "      <td>20.0</td>\n",
       "      <td>NaN</td>\n",
       "      <td>2013-07-01</td>\n",
       "    </tr>\n",
       "    <tr>\n",
       "      <th>1</th>\n",
       "      <td>2013-07-02</td>\n",
       "      <td>1</td>\n",
       "      <td>159.793757</td>\n",
       "      <td>3.0</td>\n",
       "      <td>17.3125</td>\n",
       "      <td>10.0</td>\n",
       "      <td>NaN</td>\n",
       "      <td>NaN</td>\n",
       "      <td>2013-07-02</td>\n",
       "    </tr>\n",
       "    <tr>\n",
       "      <th>2</th>\n",
       "      <td>2013-07-03</td>\n",
       "      <td>1</td>\n",
       "      <td>111.885594</td>\n",
       "      <td>7.0</td>\n",
       "      <td>21.0750</td>\n",
       "      <td>6.0</td>\n",
       "      <td>61.0</td>\n",
       "      <td>NaN</td>\n",
       "      <td>2013-07-03</td>\n",
       "    </tr>\n",
       "    <tr>\n",
       "      <th>3</th>\n",
       "      <td>2013-07-04</td>\n",
       "      <td>1</td>\n",
       "      <td>168.864941</td>\n",
       "      <td>7.0</td>\n",
       "      <td>18.8500</td>\n",
       "      <td>7.0</td>\n",
       "      <td>20.0</td>\n",
       "      <td>NaN</td>\n",
       "      <td>2013-07-04</td>\n",
       "    </tr>\n",
       "    <tr>\n",
       "      <th>4</th>\n",
       "      <td>2013-07-05</td>\n",
       "      <td>1</td>\n",
       "      <td>171.280754</td>\n",
       "      <td>5.0</td>\n",
       "      <td>19.9750</td>\n",
       "      <td>12.0</td>\n",
       "      <td>NaN</td>\n",
       "      <td>NaN</td>\n",
       "      <td>2013-07-05</td>\n",
       "    </tr>\n",
       "  </tbody>\n",
       "</table>\n",
       "</div>"
      ],
      "text/plain": [
       "        Datum  Warengruppe      Umsatz  Bewoelkung  Temperatur  \\\n",
       "0  2013-07-01            1  148.828353         6.0     17.8375   \n",
       "1  2013-07-02            1  159.793757         3.0     17.3125   \n",
       "2  2013-07-03            1  111.885594         7.0     21.0750   \n",
       "3  2013-07-04            1  168.864941         7.0     18.8500   \n",
       "4  2013-07-05            1  171.280754         5.0     19.9750   \n",
       "\n",
       "   Windgeschwindigkeit  Wettercode  KielerWoche       Date  \n",
       "0                 15.0        20.0          NaN 2013-07-01  \n",
       "1                 10.0         NaN          NaN 2013-07-02  \n",
       "2                  6.0        61.0          NaN 2013-07-03  \n",
       "3                  7.0        20.0          NaN 2013-07-04  \n",
       "4                 12.0         NaN          NaN 2013-07-05  "
      ]
     },
     "execution_count": 29,
     "metadata": {},
     "output_type": "execute_result"
    }
   ],
   "source": [
    "merged_df.head()"
   ]
  },
  {
   "cell_type": "code",
   "execution_count": 106,
   "metadata": {},
   "outputs": [],
   "source": [
    "# This code will remove the columns specified in the columns_to_remove list from your DataFrame df. Setting inplace=True modifies the DataFrame in place, meaning the changes will be applied directly to df.\n",
    "column_to_remove = [\"Datum\"]\n",
    "merged_df.drop(columns=column_to_remove, inplace=True)"
   ]
  },
  {
   "cell_type": "code",
   "execution_count": 109,
   "metadata": {},
   "outputs": [
    {
     "data": {
      "text/plain": [
       "<Axes: xlabel='Temperatur', ylabel='Windgeschwindigkeit'>"
      ]
     },
     "execution_count": 109,
     "metadata": {},
     "output_type": "execute_result"
    },
    {
     "data": {
      "image/png": "[encoded data removed]",
      "text/plain": [
       "<Figure size 640x480 with 1 Axes>"
      ]
     },
     "metadata": {},
     "output_type": "display_data"
    }
   ],
   "source": [
    "# evaluate correlation between T and wind\n",
    "\n",
    "merged_df.plot(x='Temperatur', y='Windgeschwindigkeit', kind='scatter')"
   ]
  },
  {
   "cell_type": "code",
   "execution_count": 117,
   "metadata": {},
   "outputs": [
    {
     "data": {
      "image/png": "[encoded data removed]",
      "text/plain": [
       "<Figure size 640x480 with 1 Axes>"
      ]
     },
     "metadata": {},
     "output_type": "display_data"
    }
   ],
   "source": [
    "x = merged_df['Temperatur']\n",
    "y = merged_df['Umsatz']\n",
    "\n",
    "# Scatter plot\n",
    "plt.scatter(x, y, label='Data')\n",
    "\n",
    "# Calculate the polynomial regression line\n",
    "z = np.polyfit(x, y, 1)\n",
    "p = np.poly1d(z)\n",
    "plt.plot(x, p(x), color='red', label='Trendline')\n",
    "\n",
    "# Add labels, title, and legend\n",
    "plt.xlabel('Temperatur')\n",
    "plt.ylabel('Umsatz')\n",
    "plt.title('Scatter Plot with Trendline')\n",
    "plt.legend()\n",
    "\n",
    "# Show the plot\n",
    "plt.show()"
   ]
  },
  {
   "cell_type": "code",
   "execution_count": null,
   "metadata": {},
   "outputs": [],
   "source": [
    "# Assign weekdays to the dates\n",
    "merged_df['Weekday'] = merged_df['Date'].dt.weekday  # Monday is 0 and Sunday is 6"
   ]
  },
  {
   "cell_type": "code",
   "execution_count": null,
   "metadata": {},
   "outputs": [
    {
     "data": {
      "text/html": [
       "<div>\n",
       "<style scoped>\n",
       "    .dataframe tbody tr th:only-of-type {\n",
       "        vertical-align: middle;\n",
       "    }\n",
       "\n",
       "    .dataframe tbody tr th {\n",
       "        vertical-align: top;\n",
       "    }\n",
       "\n",
       "    .dataframe thead th {\n",
       "        text-align: right;\n",
       "    }\n",
       "</style>\n",
       "<table border=\"1\" class=\"dataframe\">\n",
       "  <thead>\n",
       "    <tr style=\"text-align: right;\">\n",
       "      <th></th>\n",
       "      <th>Datum</th>\n",
       "      <th>Warengruppe</th>\n",
       "      <th>Umsatz</th>\n",
       "      <th>Bewoelkung</th>\n",
       "      <th>Temperatur</th>\n",
       "      <th>Windgeschwindigkeit</th>\n",
       "      <th>Wettercode</th>\n",
       "      <th>KielerWoche</th>\n",
       "      <th>Date</th>\n",
       "      <th>Weekday</th>\n",
       "    </tr>\n",
       "  </thead>\n",
       "  <tbody>\n",
       "    <tr>\n",
       "      <th>0</th>\n",
       "      <td>2013-07-01</td>\n",
       "      <td>1</td>\n",
       "      <td>148.828353</td>\n",
       "      <td>6.0</td>\n",
       "      <td>17.8375</td>\n",
       "      <td>15.0</td>\n",
       "      <td>20.0</td>\n",
       "      <td>NaN</td>\n",
       "      <td>2013-07-01</td>\n",
       "      <td>0</td>\n",
       "    </tr>\n",
       "    <tr>\n",
       "      <th>1</th>\n",
       "      <td>2013-07-02</td>\n",
       "      <td>1</td>\n",
       "      <td>159.793757</td>\n",
       "      <td>3.0</td>\n",
       "      <td>17.3125</td>\n",
       "      <td>10.0</td>\n",
       "      <td>NaN</td>\n",
       "      <td>NaN</td>\n",
       "      <td>2013-07-02</td>\n",
       "      <td>1</td>\n",
       "    </tr>\n",
       "    <tr>\n",
       "      <th>2</th>\n",
       "      <td>2013-07-03</td>\n",
       "      <td>1</td>\n",
       "      <td>111.885594</td>\n",
       "      <td>7.0</td>\n",
       "      <td>21.0750</td>\n",
       "      <td>6.0</td>\n",
       "      <td>61.0</td>\n",
       "      <td>NaN</td>\n",
       "      <td>2013-07-03</td>\n",
       "      <td>2</td>\n",
       "    </tr>\n",
       "    <tr>\n",
       "      <th>3</th>\n",
       "      <td>2013-07-04</td>\n",
       "      <td>1</td>\n",
       "      <td>168.864941</td>\n",
       "      <td>7.0</td>\n",
       "      <td>18.8500</td>\n",
       "      <td>7.0</td>\n",
       "      <td>20.0</td>\n",
       "      <td>NaN</td>\n",
       "      <td>2013-07-04</td>\n",
       "      <td>3</td>\n",
       "    </tr>\n",
       "    <tr>\n",
       "      <th>4</th>\n",
       "      <td>2013-07-05</td>\n",
       "      <td>1</td>\n",
       "      <td>171.280754</td>\n",
       "      <td>5.0</td>\n",
       "      <td>19.9750</td>\n",
       "      <td>12.0</td>\n",
       "      <td>NaN</td>\n",
       "      <td>NaN</td>\n",
       "      <td>2013-07-05</td>\n",
       "      <td>4</td>\n",
       "    </tr>\n",
       "  </tbody>\n",
       "</table>\n",
       "</div>"
      ],
      "text/plain": [
       "        Datum  Warengruppe      Umsatz  Bewoelkung  Temperatur  \\\n",
       "0  2013-07-01            1  148.828353         6.0     17.8375   \n",
       "1  2013-07-02            1  159.793757         3.0     17.3125   \n",
       "2  2013-07-03            1  111.885594         7.0     21.0750   \n",
       "3  2013-07-04            1  168.864941         7.0     18.8500   \n",
       "4  2013-07-05            1  171.280754         5.0     19.9750   \n",
       "\n",
       "   Windgeschwindigkeit  Wettercode  KielerWoche       Date  Weekday  \n",
       "0                 15.0        20.0          NaN 2013-07-01        0  \n",
       "1                 10.0         NaN          NaN 2013-07-02        1  \n",
       "2                  6.0        61.0          NaN 2013-07-03        2  \n",
       "3                  7.0        20.0          NaN 2013-07-04        3  \n",
       "4                 12.0         NaN          NaN 2013-07-05        4  "
      ]
     },
     "execution_count": 32,
     "metadata": {},
     "output_type": "execute_result"
    }
   ],
   "source": [
    "merged_df.head()"
   ]
  },
  {
   "cell_type": "code",
   "execution_count": null,
   "metadata": {},
   "outputs": [],
   "source": [
    "# Map weekday numbers to weekday names (optional)\n",
    "weekday_names = {0: 'Monday', 1: 'Tuesday', 2: 'Wednesday', 3: 'Thursday', 4: 'Friday', 5: 'Saturday', 6: 'Sunday'}\n",
    "merged_df['Weekday'] = merged_df['Weekday'].map(weekday_names)"
   ]
  },
  {
   "cell_type": "code",
   "execution_count": null,
   "metadata": {},
   "outputs": [
    {
     "data": {
      "text/html": [
       "<div>\n",
       "<style scoped>\n",
       "    .dataframe tbody tr th:only-of-type {\n",
       "        vertical-align: middle;\n",
       "    }\n",
       "\n",
       "    .dataframe tbody tr th {\n",
       "        vertical-align: top;\n",
       "    }\n",
       "\n",
       "    .dataframe thead th {\n",
       "        text-align: right;\n",
       "    }\n",
       "</style>\n",
       "<table border=\"1\" class=\"dataframe\">\n",
       "  <thead>\n",
       "    <tr style=\"text-align: right;\">\n",
       "      <th></th>\n",
       "      <th>Datum</th>\n",
       "      <th>Warengruppe</th>\n",
       "      <th>Umsatz</th>\n",
       "      <th>Bewoelkung</th>\n",
       "      <th>Temperatur</th>\n",
       "      <th>Windgeschwindigkeit</th>\n",
       "      <th>Wettercode</th>\n",
       "      <th>KielerWoche</th>\n",
       "      <th>Date</th>\n",
       "      <th>Weekday</th>\n",
       "    </tr>\n",
       "  </thead>\n",
       "  <tbody>\n",
       "    <tr>\n",
       "      <th>0</th>\n",
       "      <td>2013-07-01</td>\n",
       "      <td>1</td>\n",
       "      <td>148.828353</td>\n",
       "      <td>6.0</td>\n",
       "      <td>17.8375</td>\n",
       "      <td>15.0</td>\n",
       "      <td>20.0</td>\n",
       "      <td>NaN</td>\n",
       "      <td>2013-07-01</td>\n",
       "      <td>Monday</td>\n",
       "    </tr>\n",
       "    <tr>\n",
       "      <th>1</th>\n",
       "      <td>2013-07-02</td>\n",
       "      <td>1</td>\n",
       "      <td>159.793757</td>\n",
       "      <td>3.0</td>\n",
       "      <td>17.3125</td>\n",
       "      <td>10.0</td>\n",
       "      <td>NaN</td>\n",
       "      <td>NaN</td>\n",
       "      <td>2013-07-02</td>\n",
       "      <td>Tuesday</td>\n",
       "    </tr>\n",
       "    <tr>\n",
       "      <th>2</th>\n",
       "      <td>2013-07-03</td>\n",
       "      <td>1</td>\n",
       "      <td>111.885594</td>\n",
       "      <td>7.0</td>\n",
       "      <td>21.0750</td>\n",
       "      <td>6.0</td>\n",
       "      <td>61.0</td>\n",
       "      <td>NaN</td>\n",
       "      <td>2013-07-03</td>\n",
       "      <td>Wednesday</td>\n",
       "    </tr>\n",
       "    <tr>\n",
       "      <th>3</th>\n",
       "      <td>2013-07-04</td>\n",
       "      <td>1</td>\n",
       "      <td>168.864941</td>\n",
       "      <td>7.0</td>\n",
       "      <td>18.8500</td>\n",
       "      <td>7.0</td>\n",
       "      <td>20.0</td>\n",
       "      <td>NaN</td>\n",
       "      <td>2013-07-04</td>\n",
       "      <td>Thursday</td>\n",
       "    </tr>\n",
       "    <tr>\n",
       "      <th>4</th>\n",
       "      <td>2013-07-05</td>\n",
       "      <td>1</td>\n",
       "      <td>171.280754</td>\n",
       "      <td>5.0</td>\n",
       "      <td>19.9750</td>\n",
       "      <td>12.0</td>\n",
       "      <td>NaN</td>\n",
       "      <td>NaN</td>\n",
       "      <td>2013-07-05</td>\n",
       "      <td>Friday</td>\n",
       "    </tr>\n",
       "  </tbody>\n",
       "</table>\n",
       "</div>"
      ],
      "text/plain": [
       "        Datum  Warengruppe      Umsatz  Bewoelkung  Temperatur  \\\n",
       "0  2013-07-01            1  148.828353         6.0     17.8375   \n",
       "1  2013-07-02            1  159.793757         3.0     17.3125   \n",
       "2  2013-07-03            1  111.885594         7.0     21.0750   \n",
       "3  2013-07-04            1  168.864941         7.0     18.8500   \n",
       "4  2013-07-05            1  171.280754         5.0     19.9750   \n",
       "\n",
       "   Windgeschwindigkeit  Wettercode  KielerWoche       Date    Weekday  \n",
       "0                 15.0        20.0          NaN 2013-07-01     Monday  \n",
       "1                 10.0         NaN          NaN 2013-07-02    Tuesday  \n",
       "2                  6.0        61.0          NaN 2013-07-03  Wednesday  \n",
       "3                  7.0        20.0          NaN 2013-07-04   Thursday  \n",
       "4                 12.0         NaN          NaN 2013-07-05     Friday  "
      ]
     },
     "execution_count": 35,
     "metadata": {},
     "output_type": "execute_result"
    }
   ],
   "source": [
    "merged_df.head()"
   ]
  },
  {
   "cell_type": "code",
   "execution_count": null,
   "metadata": {},
   "outputs": [
    {
     "data": {
      "text/plain": [
       "Weekday\n",
       "Monday       193.688449\n",
       "Tuesday      187.944440\n",
       "Wednesday    187.477523\n",
       "Thursday     193.232274\n",
       "Friday       196.796023\n",
       "Saturday     241.319882\n",
       "Sunday       246.495651\n",
       "Name: Umsatz, dtype: float64"
      ]
     },
     "execution_count": 38,
     "metadata": {},
     "output_type": "execute_result"
    }
   ],
   "source": [
    "# Calculate the mean of each weekday\n",
    "weekday_means = merged_df.groupby('Weekday')['Umsatz'].mean()\n",
    "\n",
    "# Sort weekdays by their number\n",
    "weekday_means = weekday_means.reindex(['Monday', 'Tuesday', 'Wednesday', 'Thursday', 'Friday', 'Saturday', 'Sunday'])\n",
    "weekday_means"
   ]
  },
  {
   "cell_type": "code",
   "execution_count": null,
   "metadata": {},
   "outputs": [
    {
     "data": {
      "image/png": "[encoded data removed]",
      "text/plain": [
       "<Figure size 1000x600 with 1 Axes>"
      ]
     },
     "metadata": {},
     "output_type": "display_data"
    }
   ],
   "source": [
    "# Plotting the results\n",
    "plt.figure(figsize=(10, 6))\n",
    "weekday_means.plot(kind='bar', color='skyblue')\n",
    "plt.title('Mean Value by Weekday')\n",
    "plt.xlabel('Weekday')\n",
    "plt.ylabel('Durchschnittlicher Umsatz')\n",
    "plt.xticks(rotation=45)  # Rotate x-axis labels for better readability\n",
    "plt.grid(axis='y')  # Add horizontal gridlines\n",
    "plt.tight_layout()  # Adjust layout to prevent clipping of labels\n",
    "plt.show()"
   ]
  },
  {
   "cell_type": "code",
   "execution_count": null,
   "metadata": {},
   "outputs": [],
   "source": [
    "# Calculate the mean sales for each month"
   ]
  },
  {
   "cell_type": "code",
   "execution_count": null,
   "metadata": {},
   "outputs": [],
   "source": [
    "#Create a new column for month: Extract the month from the 'date' column and create a new column in the DataFrame to store it.\n",
    "\n",
    "merged_df['month'] = merged_df['Date'].dt.month"
   ]
  },
  {
   "cell_type": "code",
   "execution_count": null,
   "metadata": {},
   "outputs": [
    {
     "data": {
      "text/html": [
       "<div>\n",
       "<style scoped>\n",
       "    .dataframe tbody tr th:only-of-type {\n",
       "        vertical-align: middle;\n",
       "    }\n",
       "\n",
       "    .dataframe tbody tr th {\n",
       "        vertical-align: top;\n",
       "    }\n",
       "\n",
       "    .dataframe thead th {\n",
       "        text-align: right;\n",
       "    }\n",
       "</style>\n",
       "<table border=\"1\" class=\"dataframe\">\n",
       "  <thead>\n",
       "    <tr style=\"text-align: right;\">\n",
       "      <th></th>\n",
       "      <th>Datum</th>\n",
       "      <th>Warengruppe</th>\n",
       "      <th>Umsatz</th>\n",
       "      <th>Bewoelkung</th>\n",
       "      <th>Temperatur</th>\n",
       "      <th>Windgeschwindigkeit</th>\n",
       "      <th>Wettercode</th>\n",
       "      <th>KielerWoche</th>\n",
       "      <th>Date</th>\n",
       "      <th>Weekday</th>\n",
       "      <th>month</th>\n",
       "    </tr>\n",
       "  </thead>\n",
       "  <tbody>\n",
       "    <tr>\n",
       "      <th>0</th>\n",
       "      <td>2013-07-01</td>\n",
       "      <td>1</td>\n",
       "      <td>148.828353</td>\n",
       "      <td>6.0</td>\n",
       "      <td>17.8375</td>\n",
       "      <td>15.0</td>\n",
       "      <td>20.0</td>\n",
       "      <td>NaN</td>\n",
       "      <td>2013-07-01</td>\n",
       "      <td>Monday</td>\n",
       "      <td>7</td>\n",
       "    </tr>\n",
       "    <tr>\n",
       "      <th>1</th>\n",
       "      <td>2013-07-02</td>\n",
       "      <td>1</td>\n",
       "      <td>159.793757</td>\n",
       "      <td>3.0</td>\n",
       "      <td>17.3125</td>\n",
       "      <td>10.0</td>\n",
       "      <td>NaN</td>\n",
       "      <td>NaN</td>\n",
       "      <td>2013-07-02</td>\n",
       "      <td>Tuesday</td>\n",
       "      <td>7</td>\n",
       "    </tr>\n",
       "    <tr>\n",
       "      <th>2</th>\n",
       "      <td>2013-07-03</td>\n",
       "      <td>1</td>\n",
       "      <td>111.885594</td>\n",
       "      <td>7.0</td>\n",
       "      <td>21.0750</td>\n",
       "      <td>6.0</td>\n",
       "      <td>61.0</td>\n",
       "      <td>NaN</td>\n",
       "      <td>2013-07-03</td>\n",
       "      <td>Wednesday</td>\n",
       "      <td>7</td>\n",
       "    </tr>\n",
       "    <tr>\n",
       "      <th>3</th>\n",
       "      <td>2013-07-04</td>\n",
       "      <td>1</td>\n",
       "      <td>168.864941</td>\n",
       "      <td>7.0</td>\n",
       "      <td>18.8500</td>\n",
       "      <td>7.0</td>\n",
       "      <td>20.0</td>\n",
       "      <td>NaN</td>\n",
       "      <td>2013-07-04</td>\n",
       "      <td>Thursday</td>\n",
       "      <td>7</td>\n",
       "    </tr>\n",
       "    <tr>\n",
       "      <th>4</th>\n",
       "      <td>2013-07-05</td>\n",
       "      <td>1</td>\n",
       "      <td>171.280754</td>\n",
       "      <td>5.0</td>\n",
       "      <td>19.9750</td>\n",
       "      <td>12.0</td>\n",
       "      <td>NaN</td>\n",
       "      <td>NaN</td>\n",
       "      <td>2013-07-05</td>\n",
       "      <td>Friday</td>\n",
       "      <td>7</td>\n",
       "    </tr>\n",
       "  </tbody>\n",
       "</table>\n",
       "</div>"
      ],
      "text/plain": [
       "        Datum  Warengruppe      Umsatz  Bewoelkung  Temperatur  \\\n",
       "0  2013-07-01            1  148.828353         6.0     17.8375   \n",
       "1  2013-07-02            1  159.793757         3.0     17.3125   \n",
       "2  2013-07-03            1  111.885594         7.0     21.0750   \n",
       "3  2013-07-04            1  168.864941         7.0     18.8500   \n",
       "4  2013-07-05            1  171.280754         5.0     19.9750   \n",
       "\n",
       "   Windgeschwindigkeit  Wettercode  KielerWoche       Date    Weekday  month  \n",
       "0                 15.0        20.0          NaN 2013-07-01     Monday      7  \n",
       "1                 10.0         NaN          NaN 2013-07-02    Tuesday      7  \n",
       "2                  6.0        61.0          NaN 2013-07-03  Wednesday      7  \n",
       "3                  7.0        20.0          NaN 2013-07-04   Thursday      7  \n",
       "4                 12.0         NaN          NaN 2013-07-05     Friday      7  "
      ]
     },
     "execution_count": 46,
     "metadata": {},
     "output_type": "execute_result"
    }
   ],
   "source": [
    "merged_df.head()"
   ]
  },
  {
   "cell_type": "code",
   "execution_count": null,
   "metadata": {},
   "outputs": [],
   "source": [
    "#Create a new column for month: Extract the month from the 'date' column and create a new column in the DataFrame to store it.\n",
    "\n",
    "merged_df['month'] = merged_df['Date'].dt.month"
   ]
  },
  {
   "cell_type": "code",
   "execution_count": 77,
   "metadata": {},
   "outputs": [
    {
     "data": {
      "text/plain": [
       "month\n",
       "1    167.972552\n",
       "2    185.515356\n",
       "3    182.284023\n",
       "4    197.351662\n",
       "5    211.430539\n",
       "Name: Umsatz, dtype: float64"
      ]
     },
     "execution_count": 77,
     "metadata": {},
     "output_type": "execute_result"
    }
   ],
   "source": [
    "#Group by month and calculate the mean: Use the groupby() function to group the DataFrame by the 'month' column, then calculate the mean for each group.\n",
    "\n",
    "monthly_means = merged_df.groupby('month')['Umsatz'].mean()\n",
    "monthly_means.head()"
   ]
  },
  {
   "cell_type": "code",
   "execution_count": 61,
   "metadata": {},
   "outputs": [
    {
     "data": {
      "image/png": "[encoded data removed]",
      "text/plain": [
       "<Figure size 1000x600 with 1 Axes>"
      ]
     },
     "metadata": {},
     "output_type": "display_data"
    }
   ],
   "source": [
    "# Plotting the results\n",
    "plt.figure(figsize=(10, 6))\n",
    "monthly_means.plot(kind='bar', color='skyblue')\n",
    "plt.title('Mean Value by month')\n",
    "plt.xlabel('Monat')\n",
    "plt.ylabel('Durchschnittlicher Umsatz')\n",
    "plt.xticks(rotation=45)  # Rotate x-axis labels for better readability\n",
    "plt.grid(axis='y')  # Add horizontal gridlines\n",
    "plt.tight_layout()  # Adjust layout to prevent clipping of labels\n",
    "plt.show()"
   ]
  },
  {
   "cell_type": "code",
   "execution_count": 71,
   "metadata": {},
   "outputs": [
    {
     "name": "stdout",
     "output_type": "stream",
     "text": [
      "Could not convert Datum to numeric.\n",
      "Could not convert Weekday to numeric.\n"
     ]
    }
   ],
   "source": [
    "non_numeric_columns = merged_df.select_dtypes(exclude=['number']).columns\n",
    "# Convert non-numeric columns to numeric (if possible)\n",
    "for column in non_numeric_columns:\n",
    "    try:\n",
    "        merged_df[column] = pd.to_numeric(merged_df[column])\n",
    "    except ValueError:\n",
    "        print(f\"Could not convert {column} to numeric.\")"
   ]
  },
  {
   "cell_type": "code",
   "execution_count": 74,
   "metadata": {},
   "outputs": [],
   "source": [
    "# This code will remove the columns specified in the columns_to_remove list from your DataFrame df. Setting inplace=True modifies the DataFrame in place, meaning the changes will be applied directly to df.\n",
    "columns_to_remove = [\"Weekday\", \"Datum\"]\n",
    "merged_df.drop(columns=columns_to_remove, inplace=True)"
   ]
  },
  {
   "cell_type": "code",
   "execution_count": 76,
   "metadata": {},
   "outputs": [
    {
     "data": {
      "text/html": [
       "<div>\n",
       "<style scoped>\n",
       "    .dataframe tbody tr th:only-of-type {\n",
       "        vertical-align: middle;\n",
       "    }\n",
       "\n",
       "    .dataframe tbody tr th {\n",
       "        vertical-align: top;\n",
       "    }\n",
       "\n",
       "    .dataframe thead th {\n",
       "        text-align: right;\n",
       "    }\n",
       "</style>\n",
       "<table border=\"1\" class=\"dataframe\">\n",
       "  <thead>\n",
       "    <tr style=\"text-align: right;\">\n",
       "      <th></th>\n",
       "      <th>month</th>\n",
       "      <th>Warengruppe</th>\n",
       "      <th>Umsatz</th>\n",
       "      <th>Bewoelkung</th>\n",
       "      <th>Temperatur</th>\n",
       "      <th>Windgeschwindigkeit</th>\n",
       "      <th>Wettercode</th>\n",
       "      <th>KielerWoche</th>\n",
       "      <th>Date</th>\n",
       "    </tr>\n",
       "  </thead>\n",
       "  <tbody>\n",
       "    <tr>\n",
       "      <th>0</th>\n",
       "      <td>1</td>\n",
       "      <td>3.023810</td>\n",
       "      <td>167.972552</td>\n",
       "      <td>6.033069</td>\n",
       "      <td>2.681689</td>\n",
       "      <td>10.699735</td>\n",
       "      <td>38.429894</td>\n",
       "      <td>0.0</td>\n",
       "      <td>1.452679e+18</td>\n",
       "    </tr>\n",
       "    <tr>\n",
       "      <th>1</th>\n",
       "      <td>2</td>\n",
       "      <td>3.000000</td>\n",
       "      <td>185.515356</td>\n",
       "      <td>5.333333</td>\n",
       "      <td>3.848151</td>\n",
       "      <td>10.801418</td>\n",
       "      <td>32.539007</td>\n",
       "      <td>0.0</td>\n",
       "      <td>1.455494e+18</td>\n",
       "    </tr>\n",
       "    <tr>\n",
       "      <th>2</th>\n",
       "      <td>3</td>\n",
       "      <td>2.998682</td>\n",
       "      <td>182.284023</td>\n",
       "      <td>4.789196</td>\n",
       "      <td>6.974391</td>\n",
       "      <td>11.865613</td>\n",
       "      <td>24.558630</td>\n",
       "      <td>0.0</td>\n",
       "      <td>1.457619e+18</td>\n",
       "    </tr>\n",
       "    <tr>\n",
       "      <th>3</th>\n",
       "      <td>4</td>\n",
       "      <td>2.994528</td>\n",
       "      <td>197.351662</td>\n",
       "      <td>4.285910</td>\n",
       "      <td>10.884644</td>\n",
       "      <td>12.480164</td>\n",
       "      <td>25.430917</td>\n",
       "      <td>0.0</td>\n",
       "      <td>1.461384e+18</td>\n",
       "    </tr>\n",
       "    <tr>\n",
       "      <th>4</th>\n",
       "      <td>5</td>\n",
       "      <td>2.994565</td>\n",
       "      <td>211.430539</td>\n",
       "      <td>3.566576</td>\n",
       "      <td>16.074372</td>\n",
       "      <td>11.830163</td>\n",
       "      <td>19.593750</td>\n",
       "      <td>0.0</td>\n",
       "      <td>1.463965e+18</td>\n",
       "    </tr>\n",
       "  </tbody>\n",
       "</table>\n",
       "</div>"
      ],
      "text/plain": [
       "   month  Warengruppe      Umsatz  Bewoelkung  Temperatur  \\\n",
       "0      1     3.023810  167.972552    6.033069    2.681689   \n",
       "1      2     3.000000  185.515356    5.333333    3.848151   \n",
       "2      3     2.998682  182.284023    4.789196    6.974391   \n",
       "3      4     2.994528  197.351662    4.285910   10.884644   \n",
       "4      5     2.994565  211.430539    3.566576   16.074372   \n",
       "\n",
       "   Windgeschwindigkeit  Wettercode  KielerWoche          Date  \n",
       "0            10.699735   38.429894          0.0  1.452679e+18  \n",
       "1            10.801418   32.539007          0.0  1.455494e+18  \n",
       "2            11.865613   24.558630          0.0  1.457619e+18  \n",
       "3            12.480164   25.430917          0.0  1.461384e+18  \n",
       "4            11.830163   19.593750          0.0  1.463965e+18  "
      ]
     },
     "execution_count": 76,
     "metadata": {},
     "output_type": "execute_result"
    }
   ],
   "source": [
    "# group by month and calculate the mean and write it to a new dataframe\n",
    "monthly_means_df = merged_df.groupby('month').mean().reset_index()\n",
    "monthly_means_df.head()"
   ]
  },
  {
   "cell_type": "code",
   "execution_count": 62,
   "metadata": {},
   "outputs": [
    {
     "data": {
      "text/plain": [
       "month\n",
       "1    6.033069\n",
       "2    5.333333\n",
       "3    4.789196\n",
       "4    4.285910\n",
       "5    3.566576\n",
       "Name: Bewoelkung, dtype: float64"
      ]
     },
     "execution_count": 62,
     "metadata": {},
     "output_type": "execute_result"
    }
   ],
   "source": [
    "##Group by month and calculate the mean: Use the groupby() function to group the DataFrame by the 'month' column, then calculate the mean for each group.\n",
    "\n",
    "monthly_means_clouds = merged_df.groupby('month')['Bewoelkung'].mean()\n",
    "monthly_means_clouds.head()"
   ]
  },
  {
   "cell_type": "code",
   "execution_count": 63,
   "metadata": {},
   "outputs": [
    {
     "data": {
      "image/png": "[encoded data removed]",
      "text/plain": [
       "<Figure size 1000x600 with 1 Axes>"
      ]
     },
     "metadata": {},
     "output_type": "display_data"
    }
   ],
   "source": [
    "# Plotting the results\n",
    "plt.figure(figsize=(10, 6))\n",
    "monthly_means_clouds.plot(kind='bar', color='skyblue')\n",
    "plt.title('Mean Value by month')\n",
    "plt.xlabel('Monat')\n",
    "plt.ylabel('Durchschnittliche Bewölkung')\n",
    "plt.xticks(rotation=45)  # Rotate x-axis labels for better readability\n",
    "plt.grid(axis='y')  # Add horizontal gridlines\n",
    "plt.tight_layout()  # Adjust layout to prevent clipping of labels\n",
    "plt.show()"
   ]
  },
  {
   "cell_type": "code",
   "execution_count": 64,
   "metadata": {},
   "outputs": [
    {
     "data": {
      "text/plain": [
       "month\n",
       "1     2.681689\n",
       "2     3.848151\n",
       "3     6.974391\n",
       "4    10.884644\n",
       "5    16.074372\n",
       "Name: Temperatur, dtype: float64"
      ]
     },
     "execution_count": 64,
     "metadata": {},
     "output_type": "execute_result"
    }
   ],
   "source": [
    "monthly_means_T = merged_df.groupby('month')['Temperatur'].mean()\n",
    "monthly_means_T.head()"
   ]
  },
  {
   "cell_type": "code",
   "execution_count": 78,
   "metadata": {},
   "outputs": [
    {
     "data": {
      "text/html": [
       "<div>\n",
       "<style scoped>\n",
       "    .dataframe tbody tr th:only-of-type {\n",
       "        vertical-align: middle;\n",
       "    }\n",
       "\n",
       "    .dataframe tbody tr th {\n",
       "        vertical-align: top;\n",
       "    }\n",
       "\n",
       "    .dataframe thead th {\n",
       "        text-align: right;\n",
       "    }\n",
       "</style>\n",
       "<table border=\"1\" class=\"dataframe\">\n",
       "  <thead>\n",
       "    <tr style=\"text-align: right;\">\n",
       "      <th></th>\n",
       "      <th>Bewoelkung</th>\n",
       "      <th>Warengruppe</th>\n",
       "      <th>Umsatz</th>\n",
       "      <th>Temperatur</th>\n",
       "      <th>Windgeschwindigkeit</th>\n",
       "      <th>Wettercode</th>\n",
       "      <th>KielerWoche</th>\n",
       "      <th>Date</th>\n",
       "      <th>month</th>\n",
       "    </tr>\n",
       "  </thead>\n",
       "  <tbody>\n",
       "    <tr>\n",
       "      <th>0</th>\n",
       "      <td>0.0</td>\n",
       "      <td>3.053125</td>\n",
       "      <td>220.800400</td>\n",
       "      <td>16.477757</td>\n",
       "      <td>10.191406</td>\n",
       "      <td>1.769531</td>\n",
       "      <td>0.011719</td>\n",
       "      <td>1.458272e+18</td>\n",
       "      <td>6.421094</td>\n",
       "    </tr>\n",
       "    <tr>\n",
       "      <th>1</th>\n",
       "      <td>1.0</td>\n",
       "      <td>3.025594</td>\n",
       "      <td>220.113238</td>\n",
       "      <td>13.717779</td>\n",
       "      <td>10.601463</td>\n",
       "      <td>4.195612</td>\n",
       "      <td>0.009141</td>\n",
       "      <td>1.452459e+18</td>\n",
       "      <td>5.950640</td>\n",
       "    </tr>\n",
       "    <tr>\n",
       "      <th>2</th>\n",
       "      <td>2.0</td>\n",
       "      <td>3.082218</td>\n",
       "      <td>214.249575</td>\n",
       "      <td>14.498040</td>\n",
       "      <td>10.311663</td>\n",
       "      <td>8.296367</td>\n",
       "      <td>0.019120</td>\n",
       "      <td>1.447034e+18</td>\n",
       "      <td>7.082218</td>\n",
       "    </tr>\n",
       "    <tr>\n",
       "      <th>3</th>\n",
       "      <td>3.0</td>\n",
       "      <td>3.081772</td>\n",
       "      <td>229.194492</td>\n",
       "      <td>15.002037</td>\n",
       "      <td>10.819421</td>\n",
       "      <td>12.853492</td>\n",
       "      <td>0.034072</td>\n",
       "      <td>1.449170e+18</td>\n",
       "      <td>7.308348</td>\n",
       "    </tr>\n",
       "    <tr>\n",
       "      <th>4</th>\n",
       "      <td>4.0</td>\n",
       "      <td>3.052317</td>\n",
       "      <td>219.106433</td>\n",
       "      <td>13.830699</td>\n",
       "      <td>11.248132</td>\n",
       "      <td>22.765321</td>\n",
       "      <td>0.029895</td>\n",
       "      <td>1.452055e+18</td>\n",
       "      <td>7.025411</td>\n",
       "    </tr>\n",
       "  </tbody>\n",
       "</table>\n",
       "</div>"
      ],
      "text/plain": [
       "   Bewoelkung  Warengruppe      Umsatz  Temperatur  Windgeschwindigkeit  \\\n",
       "0         0.0     3.053125  220.800400   16.477757            10.191406   \n",
       "1         1.0     3.025594  220.113238   13.717779            10.601463   \n",
       "2         2.0     3.082218  214.249575   14.498040            10.311663   \n",
       "3         3.0     3.081772  229.194492   15.002037            10.819421   \n",
       "4         4.0     3.052317  219.106433   13.830699            11.248132   \n",
       "\n",
       "   Wettercode  KielerWoche          Date     month  \n",
       "0    1.769531     0.011719  1.458272e+18  6.421094  \n",
       "1    4.195612     0.009141  1.452459e+18  5.950640  \n",
       "2    8.296367     0.019120  1.447034e+18  7.082218  \n",
       "3   12.853492     0.034072  1.449170e+18  7.308348  \n",
       "4   22.765321     0.029895  1.452055e+18  7.025411  "
      ]
     },
     "execution_count": 78,
     "metadata": {},
     "output_type": "execute_result"
    }
   ],
   "source": [
    "# group by Bewoelkung and calculate the mean and write it to a new dataframe\n",
    "cloudy_means_df = merged_df.groupby('Bewoelkung').mean().reset_index()\n",
    "cloudy_means_df.head()"
   ]
  },
  {
   "cell_type": "code",
   "execution_count": 85,
   "metadata": {},
   "outputs": [
    {
     "data": {
      "image/png": "[encoded data removed]",
      "text/plain": [
       "<Figure size 1000x600 with 1 Axes>"
      ]
     },
     "metadata": {},
     "output_type": "display_data"
    }
   ],
   "source": [
    "# Plotting the Temperature by Bewoelkung\n",
    "\n",
    "plt.figure(figsize=(10, 6))\n",
    "cloudy_means_df[ 'Temperatur'].plot(kind='line', color='skyblue')\n",
    "plt.title('Mean Value by Bewoelkung')\n",
    "plt.xlabel('Bewoelkung')\n",
    "plt.ylabel('Temperatur (°C)')\n",
    "plt.xticks(rotation=45)  # Rotate x-axis labels for better readability\n",
    "plt.grid(axis='y')  # Add horizontal gridlines\n",
    "plt.tight_layout()  # Adjust layout to prevent clipping of labels\n",
    "plt.show()"
   ]
  },
  {
   "cell_type": "code",
   "execution_count": 86,
   "metadata": {},
   "outputs": [
    {
     "data": {
      "image/png": "[encoded data removed]",
      "text/plain": [
       "<Figure size 1000x600 with 1 Axes>"
      ]
     },
     "metadata": {},
     "output_type": "display_data"
    }
   ],
   "source": [
    "# Plotting the Umsatz by Bewoelkung\n",
    "\n",
    "plt.figure(figsize=(10, 6))\n",
    "cloudy_means_df[ 'Umsatz'].plot(kind='line', color='skyblue')\n",
    "plt.title('Mean Value by Bewoelkung')\n",
    "plt.xlabel('Bewoelkung')\n",
    "plt.ylabel('Umsatz')\n",
    "plt.xticks(rotation=45)  # Rotate x-axis labels for better readability\n",
    "plt.grid(axis='y')  # Add horizontal gridlines\n",
    "plt.tight_layout()  # Adjust layout to prevent clipping of labels\n",
    "plt.show()"
   ]
  },
  {
   "cell_type": "code",
   "execution_count": 87,
   "metadata": {},
   "outputs": [
    {
     "data": {
      "text/html": [
       "<div>\n",
       "<style scoped>\n",
       "    .dataframe tbody tr th:only-of-type {\n",
       "        vertical-align: middle;\n",
       "    }\n",
       "\n",
       "    .dataframe tbody tr th {\n",
       "        vertical-align: top;\n",
       "    }\n",
       "\n",
       "    .dataframe thead th {\n",
       "        text-align: right;\n",
       "    }\n",
       "</style>\n",
       "<table border=\"1\" class=\"dataframe\">\n",
       "  <thead>\n",
       "    <tr style=\"text-align: right;\">\n",
       "      <th></th>\n",
       "      <th>Windgeschwindigkeit</th>\n",
       "      <th>Warengruppe</th>\n",
       "      <th>Umsatz</th>\n",
       "      <th>Bewoelkung</th>\n",
       "      <th>Temperatur</th>\n",
       "      <th>Wettercode</th>\n",
       "      <th>KielerWoche</th>\n",
       "      <th>Date</th>\n",
       "      <th>month</th>\n",
       "    </tr>\n",
       "  </thead>\n",
       "  <tbody>\n",
       "    <tr>\n",
       "      <th>0</th>\n",
       "      <td>0.0</td>\n",
       "      <td>3.187500</td>\n",
       "      <td>187.013198</td>\n",
       "      <td>0.000000</td>\n",
       "      <td>0.000000</td>\n",
       "      <td>0.000000</td>\n",
       "      <td>0.000000</td>\n",
       "      <td>1.497479e+18</td>\n",
       "      <td>10.750000</td>\n",
       "    </tr>\n",
       "    <tr>\n",
       "      <th>1</th>\n",
       "      <td>3.0</td>\n",
       "      <td>3.272727</td>\n",
       "      <td>172.747425</td>\n",
       "      <td>6.772727</td>\n",
       "      <td>4.222159</td>\n",
       "      <td>39.454545</td>\n",
       "      <td>0.000000</td>\n",
       "      <td>1.440394e+18</td>\n",
       "      <td>6.727273</td>\n",
       "    </tr>\n",
       "    <tr>\n",
       "      <th>2</th>\n",
       "      <td>4.0</td>\n",
       "      <td>3.188312</td>\n",
       "      <td>165.130706</td>\n",
       "      <td>5.155844</td>\n",
       "      <td>5.417266</td>\n",
       "      <td>24.025974</td>\n",
       "      <td>0.000000</td>\n",
       "      <td>1.457282e+18</td>\n",
       "      <td>7.090909</td>\n",
       "    </tr>\n",
       "    <tr>\n",
       "      <th>3</th>\n",
       "      <td>5.0</td>\n",
       "      <td>3.156863</td>\n",
       "      <td>181.765535</td>\n",
       "      <td>5.473856</td>\n",
       "      <td>9.355357</td>\n",
       "      <td>25.924837</td>\n",
       "      <td>0.016340</td>\n",
       "      <td>1.459654e+18</td>\n",
       "      <td>7.052288</td>\n",
       "    </tr>\n",
       "    <tr>\n",
       "      <th>4</th>\n",
       "      <td>6.0</td>\n",
       "      <td>3.082353</td>\n",
       "      <td>200.262018</td>\n",
       "      <td>5.021849</td>\n",
       "      <td>11.548256</td>\n",
       "      <td>23.556303</td>\n",
       "      <td>0.016807</td>\n",
       "      <td>1.453985e+18</td>\n",
       "      <td>7.231933</td>\n",
       "    </tr>\n",
       "  </tbody>\n",
       "</table>\n",
       "</div>"
      ],
      "text/plain": [
       "   Windgeschwindigkeit  Warengruppe      Umsatz  Bewoelkung  Temperatur  \\\n",
       "0                  0.0     3.187500  187.013198    0.000000    0.000000   \n",
       "1                  3.0     3.272727  172.747425    6.772727    4.222159   \n",
       "2                  4.0     3.188312  165.130706    5.155844    5.417266   \n",
       "3                  5.0     3.156863  181.765535    5.473856    9.355357   \n",
       "4                  6.0     3.082353  200.262018    5.021849   11.548256   \n",
       "\n",
       "   Wettercode  KielerWoche          Date      month  \n",
       "0    0.000000     0.000000  1.497479e+18  10.750000  \n",
       "1   39.454545     0.000000  1.440394e+18   6.727273  \n",
       "2   24.025974     0.000000  1.457282e+18   7.090909  \n",
       "3   25.924837     0.016340  1.459654e+18   7.052288  \n",
       "4   23.556303     0.016807  1.453985e+18   7.231933  "
      ]
     },
     "execution_count": 87,
     "metadata": {},
     "output_type": "execute_result"
    }
   ],
   "source": [
    "# group by Windgeschwindigkeit and calculate the mean and write it to a new dataframe\n",
    "wind_means_df = merged_df.groupby('Windgeschwindigkeit').mean().reset_index()\n",
    "wind_means_df.head()"
   ]
  },
  {
   "cell_type": "code",
   "execution_count": null,
   "metadata": {},
   "outputs": [],
   "source": []
  }
 ],
 "metadata": {
  "kernelspec": {
   "display_name": "Python 3",
   "language": "python",
   "name": "python3"
  },
  "language_info": {
   "codemirror_mode": {
    "name": "ipython",
    "version": 3
   },
   "file_extension": ".py",
   "mimetype": "text/x-python",
   "name": "python",
   "nbconvert_exporter": "python",
   "pygments_lexer": "ipython3",
   "version": "3.10.13"
  }
 },
 "nbformat": 4,
 "nbformat_minor": 2
}
